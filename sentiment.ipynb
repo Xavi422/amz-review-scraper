{
 "cells": [
  {
   "attachments": {},
   "cell_type": "markdown",
   "metadata": {},
   "source": [
    "# Amazon Product Review Sentiment Analysis\n",
    "\n",
    "This notebook uses customer reviews scraped from an Amazon food product to determine the consumer preferences for each flavour of the product.\n",
    "\n",
    "The data is sourced from the reviews.json file output from the scraper notebook in this repo."
   ]
  },
  {
   "attachments": {},
   "cell_type": "markdown",
   "metadata": {},
   "source": [
    "## Imports"
   ]
  },
  {
   "cell_type": "code",
   "execution_count": 1,
   "metadata": {},
   "outputs": [],
   "source": [
    "import pandas as pd"
   ]
  },
  {
   "attachments": {},
   "cell_type": "markdown",
   "metadata": {},
   "source": [
    "## EDA"
   ]
  },
  {
   "cell_type": "code",
   "execution_count": 9,
   "metadata": {},
   "outputs": [
    {
     "name": "stdout",
     "output_type": "stream",
     "text": [
      "(2089, 5)\n"
     ]
    }
   ],
   "source": [
    "df = pd.read_json(\"reviews.json\")\n",
    "print(df.shape)"
   ]
  },
  {
   "cell_type": "code",
   "execution_count": 10,
   "metadata": {},
   "outputs": [
    {
     "name": "stdout",
     "output_type": "stream",
     "text": [
      "<class 'pandas.core.frame.DataFrame'>\n",
      "RangeIndex: 2089 entries, 0 to 2088\n",
      "Data columns (total 5 columns):\n",
      " #   Column   Non-Null Count  Dtype \n",
      "---  ------   --------------  ----- \n",
      " 0   id       2089 non-null   object\n",
      " 1   foreign  2089 non-null   bool  \n",
      " 2   title    2089 non-null   object\n",
      " 3   flavour  2089 non-null   object\n",
      " 4   content  2089 non-null   object\n",
      "dtypes: bool(1), object(4)\n",
      "memory usage: 67.4+ KB\n",
      "None\n"
     ]
    }
   ],
   "source": [
    "print(df.info())"
   ]
  },
  {
   "cell_type": "code",
   "execution_count": 18,
   "metadata": {},
   "outputs": [
    {
     "name": "stdout",
     "output_type": "stream",
     "text": [
      "['Chocolate Deluxe' 'Dark Chocolate Coconut'\n",
      " 'Strawberry with Greek Yogurt' 'Chocolate Salted Caramel'\n",
      " 'Chocolate Peanut Butter' 'Chocolate Peanut Caramel'\n",
      " 'Chewy Chocolate Chip']\n"
     ]
    }
   ],
   "source": [
    "# what flavours are in the dataset\n",
    "print(df['flavour'].unique())"
   ]
  },
  {
   "cell_type": "code",
   "execution_count": 19,
   "metadata": {},
   "outputs": [
    {
     "data": {
      "text/plain": [
       "Chocolate Peanut Butter         546\n",
       "Chocolate Deluxe                478\n",
       "Chocolate Salted Caramel        362\n",
       "Dark Chocolate Coconut          237\n",
       "Strawberry with Greek Yogurt    189\n",
       "Chocolate Peanut Caramel        157\n",
       "Chewy Chocolate Chip            120\n",
       "Name: flavour, dtype: int64"
      ]
     },
     "execution_count": 19,
     "metadata": {},
     "output_type": "execute_result"
    }
   ],
   "source": [
    "# flavour count\n",
    "df['flavour'].value_counts()"
   ]
  }
 ],
 "metadata": {
  "kernelspec": {
   "display_name": "amzscraper",
   "language": "python",
   "name": "python3"
  },
  "language_info": {
   "codemirror_mode": {
    "name": "ipython",
    "version": 3
   },
   "file_extension": ".py",
   "mimetype": "text/x-python",
   "name": "python",
   "nbconvert_exporter": "python",
   "pygments_lexer": "ipython3",
   "version": "3.10.8"
  },
  "orig_nbformat": 4,
  "vscode": {
   "interpreter": {
    "hash": "f2c85490e556883314cc3025ee24e4f17874aa3f48e7b3e45849e810542dae2a"
   }
  }
 },
 "nbformat": 4,
 "nbformat_minor": 2
}
